{
 "cells": [
  {
   "cell_type": "code",
   "execution_count": 1,
   "metadata": {
    "collapsed": true
   },
   "outputs": [],
   "source": [
    "from selenium import webdriver\n",
    "from selenium.webdriver.common.keys import Keys\n"
   ]
  },
  {
   "cell_type": "code",
   "execution_count": 5,
   "metadata": {},
   "outputs": [
    {
     "name": "stdout",
     "output_type": "stream",
     "text": [
      "https://www.realestate.com.au/property-unit-qld-broadbeach-422974878\n"
     ]
    }
   ],
   "source": [
    "driver = webdriver.Chrome()\n",
    "driver.get(\"https://www.realestate.com.au/rent/in-gold+coast,+qld/list-1\")\n",
    "result_table = driver.find_element_by_id(\"searchResultsTbl\")\n",
    "one_result = result_table.find_element_by_class_name(\"resultBody\")\n",
    "address = one_result.find_element_by_css_selector(\"h2.rui-truncate a\")\n",
    "print(address.get_attribute('href'))\n",
    "driver.close()"
   ]
  },
  {
   "cell_type": "code",
   "execution_count": 4,
   "metadata": {},
   "outputs": [
    {
     "data": {
      "text/plain": [
       "<selenium.webdriver.remote.webelement.WebElement (session=\"9037f1de05c1278e78bf2707e6323e28\", element=\"0.3992887261469982-3\")>"
      ]
     },
     "execution_count": 4,
     "metadata": {},
     "output_type": "execute_result"
    }
   ],
   "source": [
    "address"
   ]
  },
  {
   "cell_type": "code",
   "execution_count": 6,
   "metadata": {},
   "outputs": [
    {
     "name": "stdout",
     "output_type": "stream",
     "text": [
      "https://www.realestate.com.au/property-unit-qld-broadbeach-422974878\n",
      "https://www.realestate.com.au/property-duplex+semi+detached-qld-labrador-422974798\n",
      "https://www.realestate.com.au/property-house-qld-bonogin-421840774\n",
      "https://www.realestate.com.au/property-apartment-qld-southport-422846498\n",
      "https://www.realestate.com.au/property-house-qld-coomera+waters-422845542\n",
      "https://www.realestate.com.au/property-house-qld-sovereign+islands-422840974\n",
      "https://www.realestate.com.au/property-house-qld-pimpama-422973362\n",
      "https://www.realestate.com.au/property-house-qld-pimpama-420354458\n",
      "https://www.realestate.com.au/property-house-qld-oxenford-414688579\n",
      "https://www.realestate.com.au/property-house-qld-varsity+lakes-420224118\n",
      "https://www.realestate.com.au/property-duplex+semi+detached-qld-pimpama-420132950\n",
      "https://www.realestate.com.au/property-house-qld-robina-419730854\n",
      "https://www.realestate.com.au/property-house-qld-coomera-420191778\n",
      "https://www.realestate.com.au/property-duplex+semi+detached-qld-willow+vale-420919794\n",
      "https://www.realestate.com.au/property-house-qld-coomera-420362750\n",
      "https://www.realestate.com.au/property-house-qld-hope+island-420074086\n",
      "https://www.realestate.com.au/property-townhouse-qld-southport-422837502\n",
      "https://www.realestate.com.au/property-house-qld-clear+island+waters-422972018\n",
      "https://www.realestate.com.au/property-apartment-qld-southport-422873794\n",
      "https://www.realestate.com.au/property-house-qld-coomera-422971330\n"
     ]
    }
   ],
   "source": [
    "driver = webdriver.Chrome()\n",
    "driver.get(\"https://www.realestate.com.au/rent/in-gold+coast,+qld/list-1\")\n",
    "result_table = driver.find_element_by_id(\"searchResultsTbl\")\n",
    "all_results = result_table.find_elements_by_class_name(\"resultBody\")\n",
    "for one_result in all_results:\n",
    "    address = one_result.find_element_by_css_selector(\"h2.rui-truncate a\")\n",
    "    link = address.get_attribute('href')\n",
    "    print(link)\n",
    "driver.close()"
   ]
  },
  {
   "cell_type": "code",
   "execution_count": null,
   "metadata": {
    "collapsed": true
   },
   "outputs": [],
   "source": []
  }
 ],
 "metadata": {
  "kernelspec": {
   "display_name": "Python 3",
   "language": "python",
   "name": "python3"
  },
  "language_info": {
   "codemirror_mode": {
    "name": "ipython",
    "version": 3
   },
   "file_extension": ".py",
   "mimetype": "text/x-python",
   "name": "python",
   "nbconvert_exporter": "python",
   "pygments_lexer": "ipython3",
   "version": "3.6.3"
  }
 },
 "nbformat": 4,
 "nbformat_minor": 2
}
